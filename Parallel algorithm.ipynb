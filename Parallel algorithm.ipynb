{
 "cells": [
  {
   "cell_type": "code",
   "execution_count": 1,
   "metadata": {},
   "outputs": [],
   "source": [
    "from pyspark.sql import SparkSession\n",
    "from pyspark.sql import Row\n",
    "from pyspark.sql import functions\n",
    "from pyspark.sql.functions import udf\n",
    "from pyspark.sql.types import FloatType\n",
    "import collections\n",
    "from pyspark.sql.functions import *\n",
    "from pyspark.sql.functions import row_number, monotonically_increasing_id\n",
    "from pyspark.sql import Window\n",
    "from haversine import haversine\n",
    "import time"
   ]
  },
  {
   "cell_type": "code",
   "execution_count": 2,
   "metadata": {},
   "outputs": [],
   "source": [
    "spark = SparkSession.builder.config(\"spark.sql.warehouse.dir\", \"data\").appName(\"SparkSQL\").getOrCreate()"
   ]
  },
  {
   "cell_type": "markdown",
   "metadata": {},
   "source": [
    "Hotel dataset (hotels-exmpl: 500 εγγραφές). Για λόγους διευκόλυνσης του ελέγχου η δοκιμή παρουσιάζεται σε δοκιμαστικό \n",
    "σύνολο δεδομένων για τα ξενοδοχεία σε 500 εγγραφές και για τα εστιατόρια σε 540 εγγραφές. Ελέγχθηκε και στο δοσμένο αρχικό σύνολο δεδομένων χωρίς να συναντάται χρονική απόκλιση, ωστόσο για λόγους σύγκρισης των δύο αλγορίθμων (parallel algorithm και cross join algorithm) που θα παρουσιαστούν στην εργασία επιλέχθηκε μικρό δοκιμαστικό dataset.\n",
    "\n",
    "*Στον συγκριτικό κώδικα cross join που θα παρουσιαστεί, ο χρόνος εκτέλεσης στο δοσμένο αρχικό dataset είναι κάποιες ώρες οπότε καθίσταται χρονοβόρα η δοκιμή του. Για αυτό ο έλεγχος των δύο αλγορίθμων παρουσιάζεται σε μικρότερα σύνολα. Ωστόσο, η αποδοτικότητα του parallel algorithm που αναπτύχθηκε φάνηκε ότι δεν επηρεάζεται χρονικά από το μέγεθος του συνόλου εγγραφών, κάτι που είναι και ο σκοπός μας."
   ]
  },
  {
   "cell_type": "code",
   "execution_count": 5,
   "metadata": {},
   "outputs": [],
   "source": [
    "hotel_rdd = sc.textFile(\"hotels-exmpl.txt\")\n",
    "hotel_rdd1 = hotel_rdd.map(lambda x : (x.split(\"|\")[0], x.split(\"|\")[1], x.split(\"|\")[4], x.split(\"|\")[5]))\n",
    "hotel_df1 = hotel_rdd1.toDF()\n",
    "hotel_df2 = hotel_df1.selectExpr(\"_1 as _id\", \"_2 as name\",\"_3 as lat\", \"_4 as lon\")\n",
    "#δημιουργούμε μία νέα στήλη με τιμές \"Β\" ώστε να διαχωρίζουμε τις εγγραφές που αφορούν τα ξενοδοχεία\n",
    "hotel_df3 = hotel_df2.withColumn(\"dataset_id\", lit(\"B\"))  "
   ]
  },
  {
   "cell_type": "markdown",
   "metadata": {},
   "source": [
    "Για να δούμε πόσες εγγραφές έχουμε από ξενοδοχεία εκτελούμε την ακόλουθη εντολή"
   ]
  },
  {
   "cell_type": "code",
   "execution_count": 4,
   "metadata": {},
   "outputs": [
    {
     "data": {
      "text/plain": [
       "500"
      ]
     },
     "execution_count": 4,
     "metadata": {},
     "output_type": "execute_result"
    }
   ],
   "source": [
    "hotel_df3.count() "
   ]
  },
  {
   "cell_type": "markdown",
   "metadata": {},
   "source": [
    "Αντίστοιχα εισάγουμε και το δοκιμαστικό σύνολο δεδομένων για τα εστιατόρια (540 εγγραφές)."
   ]
  },
  {
   "cell_type": "code",
   "execution_count": 6,
   "metadata": {},
   "outputs": [],
   "source": [
    "rest_rdd2 = sc.textFile(\"restaurants-exmpl.txt\")\n",
    "rest_rdd3 = rest_rdd2.map(lambda x : (x.split(\"|\")[0], x.split(\"|\")[1], x.split(\"|\")[3], x.split(\"|\")[4]))\n",
    "rest_df4 = rest_rdd3.toDF()\n",
    "rest_df5 = rest_df4.selectExpr(\"_1 as _id\", \"_2 as name\",\"_3 as lat\", \"_4 as lon\")\n",
    "#δημιουργούμε μία νέα στήλη με τιμές \"Α\" ώστε να διαχωρίζουμε τις εγγραφές που αφορούν τα εστιατόρια\n",
    "rest_df6 = rest_df5.withColumn(\"dataset_id\", lit(\"A\"))"
   ]
  },
  {
   "cell_type": "markdown",
   "metadata": {},
   "source": [
    "Για να δούμε πόσες εγγραφές έχουμε από ξενοδοχεία εκτελούμε την ακόλουθη εντολή"
   ]
  },
  {
   "cell_type": "code",
   "execution_count": 9,
   "metadata": {},
   "outputs": [
    {
     "data": {
      "text/plain": [
       "540"
      ]
     },
     "execution_count": 9,
     "metadata": {},
     "output_type": "execute_result"
    }
   ],
   "source": [
    "rest_df6.count() "
   ]
  },
  {
   "cell_type": "markdown",
   "metadata": {},
   "source": [
    "Aκολούθως, ενώνουμε τα δύο dataframes σε ένα που θα το ονομάσουμε df_concat."
   ]
  },
  {
   "cell_type": "code",
   "execution_count": 10,
   "metadata": {},
   "outputs": [],
   "source": [
    "df_concat = hotel_df3.union(rest_df6)\n",
    "#print(df_concat.show())"
   ]
  },
  {
   "cell_type": "markdown",
   "metadata": {},
   "source": [
    "Tαξινομούμε τις εγγραφές κατά αύξον γεωγραφικό πλάτος "
   ]
  },
  {
   "cell_type": "code",
   "execution_count": 11,
   "metadata": {},
   "outputs": [],
   "source": [
    "df_concat1 = df_concat.orderBy(df_concat[\"lat\"].asc())\n",
    "#print(df_concat1.show())"
   ]
  },
  {
   "cell_type": "markdown",
   "metadata": {},
   "source": [
    "Προσθέτουμε μία νέα στήλη (\"increase_id\") που θα μας βοηθήσει στην συνέχεια ώστε να διαμοιράσουμε τα δεδομένα μας \n",
    "στα partitions. Οι τιμές ξεκινούν από το 1 και φθάνουν μέχρι και τον αριθμό που ισούται το πλήθος των εγγραφών."
   ]
  },
  {
   "cell_type": "code",
   "execution_count": 13,
   "metadata": {},
   "outputs": [
    {
     "name": "stdout",
     "output_type": "stream",
     "text": [
      "+---+--------------------+----------------+-----------------+----------+----------+\n",
      "|_id|                name|             lat|              lon|dataset_id|increas_id|\n",
      "+---+--------------------+----------------+-----------------+----------+----------+\n",
      "|479|     Jack in the Box|       32.555577|      -117.051702|         A|         0|\n",
      "|446|Best Western Amer...|         32.5584|       -117.06005|         B|         1|\n",
      "|365|       Coco's Bakery|        32.55852|      -117.060147|         A|         2|\n",
      "| 73|America's Best Va...|           32.56|      -117.062943|         B|         3|\n",
      "|255|      Baskin-Robbins|       32.610854|      -117.068653|         A|         4|\n",
      "|317|Best Western-Chul...|        32.61546|       -117.08347|         B|         5|\n",
      "|276|Bay Breeze Inn an...|       32.629683|      -117.092798|         B|         6|\n",
      "|296|         Big 7 Motel|       32.636501|      -117.091003|         B|         7|\n",
      "|330|Best Western Sout...|        32.64013|       -117.09779|         B|         8|\n",
      "|523|     Jack in the Box|        32.67202|      -115.498644|         A|         9|\n",
      "|467|     Jack in the Box|32.6762598867606|-117.039850652218|         A|        10|\n",
      "|442|Best Western John...|       32.693683|      -115.500177|         B|        11|\n",
      "| 77|Americas Best Val...|       32.702253|      -117.145923|         B|        12|\n",
      "|239|     Andaz-San Diego|      32.7137562|     -117.1587537|         B|        13|\n",
      "|250|Anthony's Fish Gr...|        32.71948|       -117.17312|         A|        14|\n",
      "| 95|   The Red Sails Inn|        32.72044|      -117.227461|         A|        15|\n",
      "|312|     Camacho's Place|        32.72303|       -115.60263|         A|        16|\n",
      "|431|Filippi's Pizza G...|       32.723064|      -117.168304|         A|        17|\n",
      "| 28|America's Best Va...|        32.72472|       -117.16144|         B|        18|\n",
      "|232|        Hob-Nob Hill|32.7291321333333|     -117.1637865|         A|        19|\n",
      "+---+--------------------+----------------+-----------------+----------+----------+\n",
      "only showing top 20 rows\n",
      "\n"
     ]
    }
   ],
   "source": [
    "dataset = df_concat1.withColumn(\"increas_id\",row_number().over(Window.orderBy(monotonically_increasing_id()))-1)\n",
    "dataset.show()"
   ]
  },
  {
   "cell_type": "markdown",
   "metadata": {},
   "source": [
    "Έχει έρθει η ώρα για το διαμοιρασμό των δεδομένων στα επιμέρους partitions. Ιδανικό πλήθος partitions, ώστε ο αλγόριθμος να \n",
    "επιτυγχάνει τη μέγιστη δυνατή αποδοτικότητα, είναι τόσα όσα και τα threads του υπολογιστή μας. Ο αλγόριθμος δοκιμάστηκε σε \n",
    "υπολογιστή δύο πυρήνων, καθενός εκ των οποίων \"τρέχει\" δύο threads. Δηλαδή, ιδανικός αριθμός partitions στην περίπτωση μας είναι 4. Σε περίπτωση που τρέχαμε τον αλγόριθμο σε cluster υπολογιστών θα πολ/ζαμε και με το πλήθος των μηχανημάτων από τα οπόια θα απαρτιζόταν το cluster μας. (δηλαδή σε επίπεδο cluster υπολογιστών θα ίσχυε: machines X cores X threads = ιδανικό πλήθος partitions)."
   ]
  },
  {
   "cell_type": "code",
   "execution_count": 14,
   "metadata": {},
   "outputs": [],
   "source": [
    "dataset1 = dataset.withColumn(\"partition\",(col(\"increas_id\")/260).cast(\"int\"))  \n",
    "dataset2 = dataset1.withColumn(\"lat\", dataset1[\"lat\"].cast(\"float\"))\n",
    "dataset3 = dataset2.withColumn(\"lon\", dataset[\"lon\"].cast(\"float\"))\n",
    "dataset1_partitioned = dataset3.repartitionByRange(4, col(\"partition\"))\n",
    "#dataset1_partitioned.write.mode(\"overwrite\").csv(\"dokimastika/results.txt\")"
   ]
  },
  {
   "cell_type": "markdown",
   "metadata": {},
   "source": [
    "Για να εκτελείται ο αλγόριθμος παράλληλα θα πρέπει κάθε partition να επεξεργάζεται το ερώτημα που θα του θέσουμε παρακάτω, \n",
    "ανεξάρτητα από το άλλο partition. Αυτό δημιουργεί την ανάγκη κάθε partition να περιέχει τις εγγραφές που χρειάζεται ώστε να \"τρέξει\" σωστά το ερώτημα. Άρα πρέπει ορισμένες εγγραφές να γίνουν αντιγραφή σε παραπάνω από ένα partition. Για να γίνει αυτό,\n",
    "είναι ανάγκη να προσδιορίσουμε τα όρια κάθε partition ως προς το lat. Εντοπίζουμε, λοιπόν, το ανώτατο και κατώτατο όριο τιμών γεωγρ. πλάτους κάθε partition. "
   ]
  },
  {
   "cell_type": "code",
   "execution_count": 15,
   "metadata": {},
   "outputs": [],
   "source": [
    "w = Window.partitionBy('partition')\n",
    "rdd5 = dataset1_partitioned.withColumn('part_maxlat', functions.max('lat').over(w))\n",
    "rdd6 = rdd5.withColumn(\"part_minlat\", functions.min('lat').over(w))\n",
    "#rdd6.show()"
   ]
  },
  {
   "cell_type": "markdown",
   "metadata": {},
   "source": [
    "Aποφασίζουμε να αντιγράψουμε τα δεδομένα των ξενοδοχείων με όρια τα +/- 0.1 μοίρες. Δηλαδή οι εγγραφές που απέχουν +/- 0.1 μοίρες από τα όρια που βρήκαμε παραπάνω, αντιγράφονται στο επόμενο ή στο προηγούμενο κελί αντίστοιχα.\n",
    "Επίσης διαγράφουμε τις εγγραφές που αντιγράφηκαν σε partitions με τιμές -1 και 4 από τη στιγμή που ουσιαστικά δεν υφίστανται τέτοια partitions. "
   ]
  },
  {
   "cell_type": "code",
   "execution_count": 16,
   "metadata": {},
   "outputs": [],
   "source": [
    "dublicatesb = rdd6.filter(rdd6[\"dataset_id\"] == \"B\")\n",
    "duplicates_up = dublicatesb.filter(\"lat+0.1 > part_maxlat\")\n",
    "duplicates_down = dublicatesb.filter(\"lat-0.1 < part_minlat\")\n",
    "duplicates_upnew = duplicates_up.withColumn(\"partition\", col(\"partition\")+1)\n",
    "duplicates_downnew = duplicates_down.withColumn(\"partition\", col(\"partition\")-1)\n",
    "duplicates_all= duplicates_upnew.union(duplicates_downnew)\n",
    "duplicates_teliko = duplicates_all.filter(duplicates_all[\"partition\"] != -1)\n",
    "duplicates_teliko1 = duplicates_teliko.filter(duplicates_teliko[\"partition\"] != 4)\n",
    "duplicates_teliko2 = duplicates_teliko1.orderBy(duplicates_teliko1[\"partition\"].asc())"
   ]
  },
  {
   "cell_type": "markdown",
   "metadata": {},
   "source": [
    "Ενώνουμε την τελική μορφή του αρχικού dataset (rdd6) με το dataframe που περιέχει τις αντιγραμμένες εγγραφές που κάναμε παραπάνω (duplicates_teliko2)."
   ]
  },
  {
   "cell_type": "code",
   "execution_count": 21,
   "metadata": {},
   "outputs": [
    {
     "name": "stdout",
     "output_type": "stream",
     "text": [
      "+---+--------------------+---------+-----------+----------+----------+---------+-----------+-----------+\n",
      "|_id|                name|      lat|        lon|dataset_id|increas_id|partition|part_maxlat|part_minlat|\n",
      "+---+--------------------+---------+-----------+----------+----------+---------+-----------+-----------+\n",
      "|358|       Coco's Bakery| 33.78827|  -117.9148|         A|       167|        0|   33.89901|  32.555576|\n",
      "|369|       Coco's Bakery|33.866184|-118.352005|         A|       234|        0|   33.89901|  32.555576|\n",
      "| 86|The Half Way Hous...| 34.46567|-118.405266|         A|       529|        2|   37.67892|  34.380478|\n",
      "|381|Best Western King...|36.205086| -121.13951|         B|       619|        2|   37.67892|  34.380478|\n",
      "|520|     Jack in the Box|36.517277| -119.56294|         A|       631|        2|   37.67892|  34.380478|\n",
      "|270|      Baskin-Robbins| 37.37952|  -122.1172|         A|       728|        2|   37.67892|  34.380478|\n",
      "|192|Ace Hotel and Swi...| 33.80138| -116.54003|         B|       175|        1|   33.89901|  32.555576|\n",
      "|255|      Baskin-Robbins|32.610855| -117.06865|         A|         4|        0|   33.89901|  32.555576|\n",
      "|335|        Tony's Jacal|32.988705| -117.25851|         A|        59|        0|   33.89901|  32.555576|\n",
      "| 20|            El Adobe|33.499466|  -117.6625|         A|        81|        0|   33.89901|  32.555576|\n",
      "|190|           Carl's Jr|36.203983|  -121.1303|         A|       617|        2|   37.67892|  34.380478|\n",
      "|406|     In-N-Out Burger| 37.98463| -121.34444|         A|       891|        3|   41.78717|  37.685516|\n",
      "| 73|America's Best Va...|    32.56| -117.06294|         B|         3|        0|   33.89901|  32.555576|\n",
      "| 95|America's Best Va...| 37.39735|-122.018135|         B|       735|        2|   37.67892|  34.380478|\n",
      "| 92|Avenue 5 Restaura...|32.734093|-117.160324|         A|        20|        0|   33.89901|  32.555576|\n",
      "|366|Best Western Plus...|32.956264|-117.030975|         B|        58|        0|   33.89901|  32.555576|\n",
      "|201|        Ayres Suites|34.002808| -117.83036|         B|       320|        1|   34.31163|  33.901066|\n",
      "|392|     In-N-Out Burger| 34.03756|-117.951546|         A|       349|        1|   34.31163|  33.901066|\n",
      "|311|      Best Value Inn|34.052917| -118.27893|         B|       363|        1|   34.31163|  33.901066|\n",
      "|404|Best Western Town...|  37.6438|   -120.994|         B|       768|        2|   37.67892|  34.380478|\n",
      "+---+--------------------+---------+-----------+----------+----------+---------+-----------+-----------+\n",
      "only showing top 20 rows\n",
      "\n"
     ]
    }
   ],
   "source": [
    "df_teliko = rdd6.union(duplicates_teliko2).distinct()\n",
    "df_teliko.show()"
   ]
  },
  {
   "cell_type": "markdown",
   "metadata": {},
   "source": [
    "Διαχωρισμός hotels-restaurants για join"
   ]
  },
  {
   "cell_type": "code",
   "execution_count": 18,
   "metadata": {},
   "outputs": [],
   "source": [
    "df_teliko1 = df_teliko.cache()\n",
    "hotel_df = df_teliko1.filter(df_teliko1[\"dataset_id\"] == \"B\")\n",
    "restaurant_df = df_teliko1.filter(df_teliko1[\"dataset_id\"] == \"A\")\n",
    "#hotel_df.count()          # gia na doume posa einai telika ta hotels (arxika + douplarismena) #\n",
    "#restaurant_df.count()     # gia na doume posa einai telika ta estiatoria (dn exei allaksei o arithmos tous) #"
   ]
  },
  {
   "cell_type": "code",
   "execution_count": 19,
   "metadata": {},
   "outputs": [],
   "source": [
    "hotel_dataframe2 = hotel_df.repartitionByRange(4, col(\"partition\"))\n",
    "restaurant_dataframe2 = restaurant_df.repartitionByRange(4, col(\"partition\"))\n",
    "#hotel_dataframe2.write.mode(\"overwrite\").csv(\"dokimastika/results1.txt\")\n",
    "#restaurant_dataframe2.write.mode(\"overwrite\").csv(\"dokimastika/results2.txt\")"
   ]
  },
  {
   "cell_type": "code",
   "execution_count": 20,
   "metadata": {},
   "outputs": [],
   "source": [
    "hotel_dataframe3 = hotel_dataframe2.selectExpr(\"_id as h_id\", \"name as hname\",\"lat as hlat\", \"lon as hlon\",\"partition as hpartition\")\n",
    "restaurant_dataframe3 = restaurant_dataframe2.selectExpr(\"_id as r_id\", \"name as rname\",\"lat as rlat\", \"lon as rlon\",\"partition as rpartition\")"
   ]
  },
  {
   "cell_type": "markdown",
   "metadata": {},
   "source": [
    "Join των δύο dataframes"
   ]
  },
  {
   "cell_type": "code",
   "execution_count": 22,
   "metadata": {},
   "outputs": [],
   "source": [
    "join_dataframes = hotel_dataframe3.join(restaurant_dataframe3 ,[hotel_dataframe3['hpartition'] == restaurant_dataframe3['rpartition'],hotel_dataframe3['hlon'] < restaurant_dataframe3['rlon'] + 0.1, hotel_dataframe3['hlon'] > restaurant_dataframe3['rlon'] - 0.1 ],how = 'full')\n",
    "#print(join_dataframes.show())\n",
    "joined_cleaned = join_dataframes.dropna(how='any')\n",
    "#joined_cleaned.count()     # Για να δούμε πόσες συζέυξεις θα κάνει τελικώς #"
   ]
  },
  {
   "cell_type": "markdown",
   "metadata": {},
   "source": [
    "Yπολογισμός haversine distance και χρόνος εκτέλεσης του ερωτήματος"
   ]
  },
  {
   "cell_type": "code",
   "execution_count": 23,
   "metadata": {},
   "outputs": [
    {
     "name": "stdout",
     "output_type": "stream",
     "text": [
      "--- 5.838547945022583 seconds ---\n"
     ]
    }
   ],
   "source": [
    "start_time = time.time()     \n",
    "distances = joined_cleaned.rdd.map(lambda x:(x[0], x[1], x[5], x[6], haversine(( x[2] , x[3] ),( x[7] , x[8] ) )))   \n",
    "print(\"--- %s seconds ---\" % (time.time() - start_time)) # xronos ektelesis haversine (sto dokimastiko dataset (hotels_exmpl kai restuarants_exmpl) dn exei aksia na elegksoume ton xrono) #\n",
    "distances_df = distances.toDF()"
   ]
  },
  {
   "cell_type": "markdown",
   "metadata": {},
   "source": [
    "Εμφάνιση αποτελεσμάτων για επιλογή απόστασης 500 μέτρα."
   ]
  },
  {
   "cell_type": "code",
   "execution_count": 24,
   "metadata": {},
   "outputs": [
    {
     "name": "stdout",
     "output_type": "stream",
     "text": [
      "+--------+--------------------+-------------+--------------------+--------------------+\n",
      "|hotel_id|          hotel_name|restaurant_id|     restaurant_name|            distance|\n",
      "+--------+--------------------+-------------+--------------------+--------------------+\n",
      "|     321|Bishop Thunderbir...|          319|       Jack's Family| 0.07818610147120898|\n",
      "|      10|           Ascot Inn|          314|Dorn's Original B...| 0.10099561698160375|\n",
      "|     163|        Andrew Hotel|          477|     Jack in the Box|   0.204344022162059|\n",
      "|     130|Alexander Inn and...|          477|     Jack in the Box|   0.222180051774984|\n",
      "|      29|           Aloha Inn|          230|           Cj's Cafe|  0.3085182253087254|\n",
      "|     108|   Alexis Park Hotel|          348|       Tommy's Joynt| 0.22621052947665762|\n",
      "|     184|  Ansonia Abby Hotel|          112|Sears Fine Foods ...| 0.48890538575355497|\n",
      "|     343|       Bel Air Hotel|          477|     Jack in the Box|  0.4124797681404847|\n",
      "|     441|Bayside Inn At Th...|          385|     In-N-Out Burger|  0.2945102211596544|\n",
      "|     290|Best Western Sant...|          146|           Carl's Jr| 0.07667777858618931|\n",
      "|     342|      Best Value Inn|            1| Daphne's Greek Cafe| 0.20309926488234983|\n",
      "|     383|         Beverly Inn|           37|The Farm Of Bever...|  0.4444868135703206|\n",
      "|     124|        Adante Hotel|          477|     Jack in the Box| 0.36271259999728406|\n",
      "|     132|America's Best Va...|          474|     Jack in the Box|  0.3292312301067701|\n",
      "|     188|    Azure Sky Resort|          244|Lyons English Grille| 0.37854824311438334|\n",
      "|     309|        Best Western|          524|     Jack in the Box| 0.35698814898140624|\n",
      "|     355|Breakers Motel Mo...|          314|Dorn's Original B...|0.019524336443146606|\n",
      "|     337|          Budget Inn|          506|     Jack in the Box|  0.4458164836738551|\n",
      "|     182|Ayres Suites, Ont...|          376|       Coco's Bakery| 0.43288728174816615|\n",
      "|     304|          Budget Inn|          399|     In-N-Out Burger| 0.17611208552175062|\n",
      "+--------+--------------------+-------------+--------------------+--------------------+\n",
      "only showing top 20 rows\n",
      "\n"
     ]
    },
    {
     "data": {
      "text/plain": [
       "92"
      ]
     },
     "execution_count": 24,
     "metadata": {},
     "output_type": "execute_result"
    }
   ],
   "source": [
    "distances1 = distances_df.selectExpr(\"_1 as hotel_id\", \"_2 as hotel_name\",\"_3 as restaurant_id\", \"_4 as restaurant_name\", \"_5 as distance\")\n",
    "results = distances1.filter(distances1[4] <= 0.5)  #(0.5 km)\n",
    "results_Final = results.distinct()\n",
    "results_Final.show()\n",
    "results_Final.count()"
   ]
  }
 ],
 "metadata": {
  "kernelspec": {
   "display_name": "Python 3",
   "language": "python",
   "name": "python3"
  },
  "language_info": {
   "codemirror_mode": {
    "name": "ipython",
    "version": 3
   },
   "file_extension": ".py",
   "mimetype": "text/x-python",
   "name": "python",
   "nbconvert_exporter": "python",
   "pygments_lexer": "ipython3",
   "version": "3.8.3"
  }
 },
 "nbformat": 4,
 "nbformat_minor": 2
}

